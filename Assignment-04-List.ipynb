{
 "cells": [
  {
   "cell_type": "markdown",
   "id": "2bcccf6e-47b3-436a-9360-ab4bdcfd9030",
   "metadata": {},
   "source": [
    "### 1. Write a program that accepts a list from user and print the alternate element of list. "
   ]
  },
  {
   "cell_type": "code",
   "execution_count": 1,
   "id": "f7ff8cea-76c3-422c-a9dd-da9f4e24c17d",
   "metadata": {},
   "outputs": [
    {
     "name": "stdin",
     "output_type": "stream",
     "text": [
      "Enter anything:  r r  t g d vv dvdb  fbd  ge\n"
     ]
    },
    {
     "name": "stdout",
     "output_type": "stream",
     "text": [
      "['r', 't', 'd', 'dvdb', 'ge']\n"
     ]
    }
   ],
   "source": [
    "user_input = input(\"Enter anything: \")\n",
    "\n",
    "user_list = user_input.split()\n",
    "\n",
    "a = user_list[0:  : 2]\n",
    "\n",
    "print(a)"
   ]
  },
  {
   "cell_type": "code",
   "execution_count": 10,
   "id": "2a9d4ac9-b502-4d93-ab8f-f40b537dad6f",
   "metadata": {},
   "outputs": [
    {
     "name": "stdin",
     "output_type": "stream",
     "text": [
      "Enter anything:  1 2 3 4\n"
     ]
    },
    {
     "name": "stdout",
     "output_type": "stream",
     "text": [
      "1\n",
      "3\n",
      "['1', '3']\n"
     ]
    }
   ],
   "source": [
    "# OR\n",
    "user_input = input(\"Enter anything: \")\n",
    "alternate_list = [] \n",
    "user_list = user_input.split()\n",
    "\n",
    "for i in range(0, len(user_list), 2):\n",
    "    alternate = user_list[i] \n",
    "    alternate_list.append(alternate) \n",
    "    print(alternate)\n",
    "print(alternate_list) "
   ]
  },
  {
   "cell_type": "markdown",
   "id": "c0b43521-0a59-4c0e-8f91-ea2b5ab769e1",
   "metadata": {},
   "source": [
    "### 2. Write a program that accepts a list from user. Your program should reverse the content of list and display it. Do not use reverse() method. "
   ]
  },
  {
   "cell_type": "code",
   "execution_count": 3,
   "id": "0d4c3cbd-a42a-4b6b-9870-d7b4db1dcefa",
   "metadata": {},
   "outputs": [
    {
     "name": "stdin",
     "output_type": "stream",
     "text": [
      "Ente rlist elements:  1 2 3 4 5 6 \n"
     ]
    },
    {
     "name": "stdout",
     "output_type": "stream",
     "text": [
      "['6', '5', '4', '3', '2', '1']\n"
     ]
    }
   ],
   "source": [
    "user_input = input(\"Ente rlist elements: \")\n",
    "\n",
    "user_list = user_input.split()\n",
    "\n",
    "print(user_list[:: -1])"
   ]
  },
  {
   "cell_type": "markdown",
   "id": "e4daebc6-2757-4af7-ba46-415e1595dbe8",
   "metadata": {},
   "source": [
    "###  3. Find and display the largest number of a list without using built-in function max(). Your program should ask the user to input values in list from keyboard. \n"
   ]
  },
  {
   "cell_type": "code",
   "execution_count": 5,
   "id": "e54cb808-c77a-4734-803c-9cbfe00f5794",
   "metadata": {},
   "outputs": [
    {
     "name": "stdin",
     "output_type": "stream",
     "text": [
      "Enter some numbers:  1 2 3 4 5 6\n"
     ]
    },
    {
     "name": "stdout",
     "output_type": "stream",
     "text": [
      "6\n"
     ]
    }
   ],
   "source": [
    "user_input = input(\"Enter some numbers: \")\n",
    "\n",
    "numbers = list(map(int, user_input.split()))\n",
    "\n",
    "largest = numbers[0]\n",
    "for number in numbers:\n",
    "    if number > largest:\n",
    "       largest = number1\n",
    "print(largest) "
   ]
  },
  {
   "cell_type": "markdown",
   "id": "b51de0ed-b444-426e-b7d0-c86cd0dd2b9c",
   "metadata": {},
   "source": [
    "### 4. Write a program that rotates the element of a list so that the element at the first index moves to the second index, the element in the second index moves to the third index, etc., and the element in the last index moves to the first index. "
   ]
  },
  {
   "cell_type": "code",
   "execution_count": 1,
   "id": "5e8dcde7-30c2-479f-9673-de5fc77bdf25",
   "metadata": {},
   "outputs": [
    {
     "name": "stdout",
     "output_type": "stream",
     "text": [
      "['Banana', 'Mango', 'Grapes', 'Apple']\n"
     ]
    }
   ],
   "source": [
    "fruits = [\"Apple\", \"Banana\", \"Mango\", \"Grapes\"]\n",
    "\n",
    "rotate = fruits[1:] + fruits[:1]\n",
    "print(rotate)"
   ]
  },
  {
   "cell_type": "markdown",
   "id": "b1ef719d-46d9-4c93-9e6b-ee2ad0f2771a",
   "metadata": {},
   "source": [
    "### 5. Write a program that input a string and ask user to delete a given word from a string. "
   ]
  },
  {
   "cell_type": "code",
   "execution_count": 3,
   "id": "fb6027ce-ae6b-4986-979a-40270962bd66",
   "metadata": {},
   "outputs": [
    {
     "name": "stdout",
     "output_type": "stream",
     "text": [
      "I love Pakistan\n"
     ]
    },
    {
     "name": "stdin",
     "output_type": "stream",
     "text": [
      "Enter what u want to remove:  i\n"
     ]
    },
    {
     "name": "stdout",
     "output_type": "stream",
     "text": [
      "I love Pakstan\n"
     ]
    }
   ],
   "source": [
    "string = \"I love Pakistan\"\n",
    "print(string)\n",
    "i = input(\"Enter what u want to remove: \")\n",
    "if i in string:\n",
    "    new_string = string.replace(i, \"\")\n",
    "    print(new_string)\n",
    "    \n",
    "else:\n",
    "    print(\"not present in sentence\")"
   ]
  },
  {
   "cell_type": "markdown",
   "id": "a4d638ce-e206-4786-9f59-d7014252fb5f",
   "metadata": {},
   "source": [
    "###  6. Write a program that reads a string from the user containing a date in the form mm/dd/yyyy.\n",
    "It \n",
    "should print the date in the form March 12 2021. "
   ]
  },
  {
   "cell_type": "code",
   "execution_count": 4,
   "id": "0d6caa7f-886f-4473-8787-2b7edbfc60f1",
   "metadata": {},
   "outputs": [
    {
     "name": "stdin",
     "output_type": "stream",
     "text": [
      "Enter date (mm/dd/yyyy) :  07/7/2007\n"
     ]
    },
    {
     "name": "stdout",
     "output_type": "stream",
     "text": [
      "July 7, 2007\n"
     ]
    }
   ],
   "source": [
    "months = {\n",
    "    '01': 'January', '02': 'February', '03': 'March',\n",
    "    '04': 'April', '05': 'May', '06': 'June',\n",
    "    '07': 'July', '08': 'August', '09': 'September',\n",
    "    '10': 'October', '11': 'November', '12': 'December'\n",
    "}\n",
    "\n",
    "date = input(\"Enter date (mm/dd/yyyy) : \")\n",
    "\n",
    "month, day, year = date.split(\"/\")\n",
    "formated_date = f\"{months[month]} {day}, {year}\"\n",
    "print(formated_date)\n"
   ]
  },
  {
   "cell_type": "markdown",
   "id": "56d709ec-0672-4b80-b16d-d33121ba85d6",
   "metadata": {},
   "source": [
    "### 7. Write a program with a function that accepts a string from keyboard and create a new string afterconverting character of each word capitalized. For instance, if the sentence is \"stop and smell the roses.\"the output should be \"Stop And Smell The Roses\" \n"
   ]
  },
  {
   "cell_type": "code",
   "execution_count": 1,
   "id": "28ed9524-09db-42ae-b907-6b4f5766466e",
   "metadata": {},
   "outputs": [
    {
     "name": "stdin",
     "output_type": "stream",
     "text": [
      "Enter a sentence (stop and smell the roses):  stop & smel the roses\n"
     ]
    },
    {
     "name": "stdout",
     "output_type": "stream",
     "text": [
      "Stop & Smel The Roses\n"
     ]
    }
   ],
   "source": [
    "string = input(\"Enter a sentence (stop and smell the roses): \")\n",
    "\n",
    "new_string = string.title()\n",
    "\n",
    "print(new_string)"
   ]
  },
  {
   "cell_type": "markdown",
   "id": "01276b19-8bbf-4b50-b4fa-1aa27acae6ec",
   "metadata": {},
   "source": [
    "### 8. Find the sum of each row of matrix of size m x n. For example for the following matrix output will be \n",
    "like this :\r"
   ]
  },
  {
   "cell_type": "code",
   "execution_count": null,
   "id": "f0c9fbac-576e-4872-ab50-48efbb947fd6",
   "metadata": {},
   "outputs": [],
   "source": []
  },
  {
   "cell_type": "code",
   "execution_count": null,
   "id": "2def07bf-36b3-4447-80a3-94eb2fd62110",
   "metadata": {},
   "outputs": [],
   "source": []
  },
  {
   "cell_type": "code",
   "execution_count": null,
   "id": "39584344-3d93-41da-9464-4407797101e0",
   "metadata": {},
   "outputs": [],
   "source": []
  },
  {
   "cell_type": "code",
   "execution_count": null,
   "id": "fa28d2c1-0ff1-4f06-a86a-6943bb839c00",
   "metadata": {},
   "outputs": [],
   "source": []
  },
  {
   "cell_type": "markdown",
   "id": "f166f36a-e636-4dcf-a860-606ec3778fa2",
   "metadata": {},
   "source": [
    "### 9. Write a program to add two matrices of size n x m. "
   ]
  },
  {
   "cell_type": "code",
   "execution_count": null,
   "id": "2e79a605-8965-4aa0-917d-e27107c5b314",
   "metadata": {},
   "outputs": [],
   "source": [
    "# Function to add two matrices\n",
    "def add_matrices(matrix1, matrix2):\n",
    "    # Get the number of rows and columns\n",
    "    rows = len(matrix1)\n",
    "    cols = len(matrix1[0])\n",
    "    \n",
    "    # Initialize the result matrix with zeros\n",
    "    result = [[0 for _ in range(cols)] for _ in range(rows)]\n",
    "    \n",
    "    # Iterate through the matrices and add corresponding elements\n",
    "    for i in range(rows):\n",
    "        for j in range(cols):\n",
    "            result[i][j] = matrix1[i][j] + matrix2[i][j]\n",
    "    \n",
    "    return result\n",
    "\n",
    "# Example usage\n",
    "matrix1 = [\n",
    "    [1, 2, 3],\n",
    "    [4, 5, 6],\n",
    "    [7, 8, 9]\n",
    "]\n",
    "\n",
    "matrix2 = [\n",
    "    [9, 8, 7],\n",
    "    [6, 5, 4],\n",
    "    [3, 2, 1]\n",
    "]\n",
    "\n",
    "# Adding the matrices\n",
    "result_matrix = add_matrices(matrix1, matrix2)\n",
    "\n",
    "# Displaying the result\n",
    "for row in result_matrix:\n",
    "    print(row)\n"
   ]
  },
  {
   "cell_type": "markdown",
   "id": "ff6b6a4b-8e0f-4453-9b77-6ef80f3ead61",
   "metadata": {},
   "source": [
    "### 10. Write a program to multiply two matrices "
   ]
  },
  {
   "cell_type": "code",
   "execution_count": 2,
   "id": "b53f1380-e898-41d4-b866-ea8f7ec16b1f",
   "metadata": {},
   "outputs": [
    {
     "name": "stdout",
     "output_type": "stream",
     "text": [
      "[30, 24, 18]\n",
      "[84, 69, 54]\n",
      "[138, 114, 90]\n"
     ]
    }
   ],
   "source": [
    "# Function to multiply two matrices\n",
    "def multiply_matrices(matrix1, matrix2):\n",
    "    # Get the number of rows and columns\n",
    "    rows_matrix1 = len(matrix1)\n",
    "    cols_matrix1 = len(matrix1[0])\n",
    "    rows_matrix2 = len(matrix2)\n",
    "    cols_matrix2 = len(matrix2[0])\n",
    "    \n",
    "    # Initialize the result matrix with zeros\n",
    "    result = [[0 for _ in range(cols_matrix2)] for _ in range(rows_matrix1)]\n",
    "    \n",
    "    # Multiply the matrices\n",
    "    for i in range(rows_matrix1):\n",
    "        for j in range(cols_matrix2):\n",
    "            for k in range(cols_matrix1):\n",
    "                result[i][j] += matrix1[i][k] * matrix2[k][j]\n",
    "    \n",
    "    return result\n",
    "\n",
    "# Example usage\n",
    "matrix1 = [\n",
    "    [1, 2, 3],\n",
    "    [4, 5, 6],\n",
    "    [7, 8, 9]\n",
    "]\n",
    "\n",
    "matrix2 = [\n",
    "    [9, 8, 7],\n",
    "    [6, 5, 4],\n",
    "    [3, 2, 1]\n",
    "]\n",
    "\n",
    "# Multiplying the matrices\n",
    "result_matrix = multiply_matrices(matrix1, matrix2)\n",
    "\n",
    "# Displaying the result\n",
    "for row in result_matrix:\n",
    "    print(row)\n"
   ]
  },
  {
   "cell_type": "code",
   "execution_count": null,
   "id": "7f5db75f-00f6-4ac2-95ee-a93fc75230aa",
   "metadata": {},
   "outputs": [],
   "source": []
  }
 ],
 "metadata": {
  "kernelspec": {
   "display_name": "Python 3 (ipykernel)",
   "language": "python",
   "name": "python3"
  },
  "language_info": {
   "codemirror_mode": {
    "name": "ipython",
    "version": 3
   },
   "file_extension": ".py",
   "mimetype": "text/x-python",
   "name": "python",
   "nbconvert_exporter": "python",
   "pygments_lexer": "ipython3",
   "version": "3.11.9"
  }
 },
 "nbformat": 4,
 "nbformat_minor": 5
}
