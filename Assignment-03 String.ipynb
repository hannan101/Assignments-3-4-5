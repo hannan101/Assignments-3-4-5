{
 "cells": [
  {
   "cell_type": "markdown",
   "id": "c20eff3f-c864-4ac1-9a46-a6db5b0e7772",
   "metadata": {},
   "source": [
    "### 1. Write a program that accepts a string from user. Your program should count and display number of vowels in that string. \r",
    " "
   ]
  },
  {
   "cell_type": "code",
   "execution_count": 1,
   "id": "79a5278e-56bf-47e7-8833-00c310505c41",
   "metadata": {},
   "outputs": [
    {
     "name": "stdin",
     "output_type": "stream",
     "text": [
      "Enter string: \n",
      " umbrella\n"
     ]
    },
    {
     "name": "stdout",
     "output_type": "stream",
     "text": [
      "vowels :  ['a', 'e', 'u']\n",
      "Vowels count :  3\n"
     ]
    }
   ],
   "source": [
    "string = input('Enter string: \\n')\n",
    "vowels = ['a', 'e', 'i', 'o', 'u']\n",
    "result = []\n",
    "for letter in vowels:\n",
    "    if letter in string:\n",
    "        result.append(letter)\n",
    "print('vowels : ', result) \n",
    "print('Vowels count : ', len(result))\n",
    "\n"
   ]
  },
  {
   "cell_type": "markdown",
   "id": "e98ba796-d1c5-4a90-8a52-c72ca0d2db0f",
   "metadata": {},
   "source": [
    "### 2. Write a program that reads a string from keyboard and display:\r\n",
    "* The number of uppercase letters in the string\r\n",
    "* The number of lowercase letters in the string\r\n",
    "* The number of digits in the string\r\n",
    "* The number of whitespace characters in the string"
   ]
  },
  {
   "cell_type": "code",
   "execution_count": 4,
   "id": "ea72b849-b3e6-4959-8ace-dbf69853c2c3",
   "metadata": {},
   "outputs": [
    {
     "name": "stdin",
     "output_type": "stream",
     "text": [
      "Enter string :\n",
      " IHIHnnkonk      78968\n"
     ]
    },
    {
     "name": "stdout",
     "output_type": "stream",
     "text": [
      "4\n",
      "6\n",
      "6\n",
      "5\n"
     ]
    }
   ],
   "source": [
    "string = input('Enter string :\\n')\n",
    "uppercase_letter = []\n",
    "lowercase_letter = []\n",
    "whitespaces_letter = []\n",
    "digits = [] \n",
    "for char in string:\n",
    "    if char.isupper():\n",
    "        uppercase_letter.append(char)\n",
    "    if char.islower():\n",
    "        lowercase_letter.append(char)\n",
    "    if char.isspace():\n",
    "        whitespaces_letter.append(char)\n",
    "    if char.isdigit():\n",
    "        digits.append(char)\n",
    "        \n",
    "print(len(uppercase_letter))\n",
    "print(len(lowercase_letter))\n",
    "print(len(whitespaces_letter))\n",
    "print(len(digits))\n"
   ]
  },
  {
   "cell_type": "markdown",
   "id": "f6a169fe-d974-4219-aa26-f38c397ba80e",
   "metadata": {},
   "source": [
    "3. Write a Python program that accepts a string from user. Your program should create and display a\r\n",
    "new string where the first and last characters have been exchanged. \r"
   ]
  },
  {
   "cell_type": "code",
   "execution_count": 6,
   "id": "852203aa-8cc7-4931-8ece-5575017cc4d7",
   "metadata": {},
   "outputs": [
    {
     "name": "stdin",
     "output_type": "stream",
     "text": [
      "Enter string:\n",
      " HellO\n"
     ]
    },
    {
     "name": "stdout",
     "output_type": "stream",
     "text": [
      "OellH\n"
     ]
    }
   ],
   "source": [
    "string = input('Enter string:\\n')\n",
    "\n",
    "if len(string) < 2:\n",
    "    new_string = string\n",
    "\n",
    "else:\n",
    "    new_string = string[-1] + string[1:-1] + string[0]\n",
    "    \n",
    "print(new_string) \n",
    "\n"
   ]
  },
  {
   "cell_type": "markdown",
   "id": "fc06bee4-f482-4442-a3a7-f2a7f709b526",
   "metadata": {},
   "source": [
    "### 4. Write a Python program that accepts a string from user. Your program should create a new string in\n",
    "reverse of first string and display it.\n",
    "For example if the user enters the string 'EXAM' then new string would be 'MAXE' \n"
   ]
  },
  {
   "cell_type": "code",
   "execution_count": 7,
   "id": "9d6c5809-90db-4129-8fa7-faf2a26f32bd",
   "metadata": {},
   "outputs": [
    {
     "name": "stdin",
     "output_type": "stream",
     "text": [
      "Enter string:  Exam Exam\n"
     ]
    },
    {
     "name": "stdout",
     "output_type": "stream",
     "text": [
      "maxE maxE\n"
     ]
    }
   ],
   "source": [
    "user_string = input('Enter string: ')\n",
    "\n",
    "result = reverse_string = user_string[::-1]\n",
    "\n",
    "print(result)\n"
   ]
  },
  {
   "cell_type": "markdown",
   "id": "f2659dce-ed24-4d72-9d3f-52182786ef03",
   "metadata": {},
   "source": [
    "### 5. Write a Python program that accepts a string from user. Your program should create a new string by \n",
    "shifting one position to left.\r\n",
    "For example if the user enters the string 'examination 2021' then new string would be 'xamination\r\n",
    "2021e' "
   ]
  },
  {
   "cell_type": "code",
   "execution_count": 8,
   "id": "5c84d54b-d254-4b66-9470-ad407ef1382a",
   "metadata": {},
   "outputs": [
    {
     "name": "stdin",
     "output_type": "stream",
     "text": [
      "Enter some string:  BulDog\n"
     ]
    },
    {
     "name": "stdout",
     "output_type": "stream",
     "text": [
      "ulDogB\n"
     ]
    }
   ],
   "source": [
    "user_string = input(\"Enter some string: \")\n",
    "\n",
    "if len(user_string) < 1:\n",
    "    new_string = user_string\n",
    "else:\n",
    "    new_string = user_string[1:] + user_string[0] \n",
    "\n",
    "print(new_string) \n",
    "    \n",
    "\n"
   ]
  },
  {
   "cell_type": "markdown",
   "id": "c0f86667-e584-4d2a-ba00-e29058c9d57c",
   "metadata": {},
   "source": [
    "### 6. Write a program that asks the user to input his name and print its initials. Assuming that the user always types first name, middle name and last name and does not include any unnecessary spaces.\n",
    "For example, if the user enters Ajay Kumar Garg the program should display A. K. G.\n",
    "Note:Don't use split() method \n"
   ]
  },
  {
   "cell_type": "code",
   "execution_count": 10,
   "id": "fb747aa1-8fee-4520-8029-4e07e4db324f",
   "metadata": {},
   "outputs": [
    {
     "name": "stdin",
     "output_type": "stream",
     "text": [
      "Enter Full name:  abdul hannan shaikh\n"
     ]
    },
    {
     "name": "stdout",
     "output_type": "stream",
     "text": [
      "Name initials:  A. H. S.\n"
     ]
    }
   ],
   "source": [
    "full_name = input(\"Enter Full name: \")\n",
    "initials = \"\"\n",
    "for i in range(len(full_name)):\n",
    "    if i == 0  or full_name[i-1] == \" \":\n",
    "        initials += full_name[i].upper() + \". \"\n",
    "        \n",
    "print(\"Name initials: \", initials.strip()) \n"
   ]
  },
  {
   "cell_type": "markdown",
   "id": "113e3a98-851d-4402-af47-f856549f22e0",
   "metadata": {},
   "source": [
    "### 7. A palindrome is a string that reads the same backward as forward. For example, the words dad, madam and radar are all palindromes. Write a programs that determines whether the string is a palindrome.\n",
    "Note: do not use reverse() method \n"
   ]
  },
  {
   "cell_type": "code",
   "execution_count": 11,
   "id": "fbf53230-ad94-4bd4-8518-87b16b9dfdf2",
   "metadata": {},
   "outputs": [
    {
     "name": "stdin",
     "output_type": "stream",
     "text": [
      "Enter String:  Madam\n"
     ]
    },
    {
     "name": "stdout",
     "output_type": "stream",
     "text": [
      "madaM\n"
     ]
    }
   ],
   "source": [
    "string = input(\"Enter String: \")\n",
    "\n",
    "reversed_string = \"\"\n",
    "reversed_string += string[::-1]\n",
    "\n",
    "if string == reversed_string:\n",
    "    print(\"Palindrome\")\n",
    "else:\n",
    "    print(\"Not palindrome\")\n",
    "\n",
    "\n",
    "print(reversed_string)\n"
   ]
  },
  {
   "cell_type": "markdown",
   "id": "26eded88-ed9b-4ba0-a5cd-bc1fbed0b3fb",
   "metadata": {},
   "source": [
    "### 8. Write a program that display following output:\n",
    "SHIFT\n",
    "HIFTS\n",
    "IFTSH\n",
    "FTSHI\n",
    "TSHIF\n",
    "SHIFT\n"
   ]
  },
  {
   "cell_type": "code",
   "execution_count": 1,
   "id": "af5798ac-53cc-42a8-9bf2-b92432b5b136",
   "metadata": {},
   "outputs": [
    {
     "name": "stdout",
     "output_type": "stream",
     "text": [
      "SHIFT\n",
      "HIFTS\n",
      "IFTSH\n",
      "FTSHI\n",
      "TSHIF\n",
      "SHIFT\n"
     ]
    }
   ],
   "source": [
    "word = \"SHIFT\"\n",
    "\n",
    "for i in range(len(word) + 1):\n",
    "    rotated_word = word[i: ] + word[ :i]\n",
    "    \n",
    "    print(rotated_word)\n"
   ]
  },
  {
   "cell_type": "markdown",
   "id": "6447c47c-01fb-44ae-8baf-4278990b6eda",
   "metadata": {},
   "source": [
    "### 9. Write a program in python that accepts a string to setup a passwords. Your entered password must \n",
    "meet the following requirements:\n",
    "The password must be at least eight characters long.\r\n",
    "It must contain at least one uppercase letter.\r\n",
    "It must contain at least one lowercase letter.\r\n",
    "It must contain at least one numeric digit.\r\n",
    "Your program should should perform this validation.  "
   ]
  },
  {
   "cell_type": "code",
   "execution_count": 2,
   "id": "80409e0a-8cfc-4e0f-9e1e-d08175ac3882",
   "metadata": {},
   "outputs": [
    {
     "name": "stdout",
     "output_type": "stream",
     "text": [
      "The password must be at least eight characters long. \n",
      "It must contain at least one uppercase letter.\n",
      "It must contain at least one lowercase letter.\n",
      "It must contain at least one numeric digit.\n",
      "\"Your program should perform this validation.\"\n"
     ]
    },
    {
     "name": "stdin",
     "output_type": "stream",
     "text": [
      "Enter a password:  jkJ8\n"
     ]
    },
    {
     "name": "stdout",
     "output_type": "stream",
     "text": [
      "Password must be at least 8 characters long.\n",
      "Password is invalid. Please try again.\n"
     ]
    }
   ],
   "source": [
    "print(\"The password must be at least eight characters long. \")\n",
    "print(\"It must contain at least one uppercase letter.\")\n",
    "print(\"It must contain at least one lowercase letter.\")\n",
    "print(\"It must contain at least one numeric digit.\")\n",
    "print(\"\\\"Your program should perform this validation.\\\"\")\n",
    "password = input(\"Enter a password: \")\n",
    "is_valid = True\n",
    "    \n",
    "if len(password) < 8:\n",
    "    is_valid = False\n",
    "    error_message = \"Password must be at least 8 characters long.\"\n",
    "    \n",
    "elif not any(char.isupper() for char in password):\n",
    "    is_valid = False\n",
    "    error_message = \"Password must contain at least one uppercase letter.\"\n",
    "\n",
    "elif not any(char.isdigit() for char in password):\n",
    "    is_valid = False\n",
    "    error_message = \"Password must contain at least one numeric digit.\"\n",
    "    \n",
    "elif not any(char.islower() for char in password):\n",
    "    is_valid = False\n",
    "    error_message = \"Password must contain at least one lowercase letter.\"\n",
    "    \n",
    "if is_valid:\n",
    "    print(\"Password is Valid !!\")\n",
    "else:\n",
    "    print(error_message)\n",
    "    print('Password is invalid. Please try again.')"
   ]
  },
  {
   "cell_type": "code",
   "execution_count": null,
   "id": "faebc675-9a59-4215-aa47-01a57e08c76b",
   "metadata": {},
   "outputs": [],
   "source": []
  },
  {
   "cell_type": "code",
   "execution_count": null,
   "id": "83f703f4-e001-46e6-ab9f-35d33163f8f1",
   "metadata": {},
   "outputs": [],
   "source": []
  }
 ],
 "metadata": {
  "kernelspec": {
   "display_name": "Python 3 (ipykernel)",
   "language": "python",
   "name": "python3"
  },
  "language_info": {
   "codemirror_mode": {
    "name": "ipython",
    "version": 3
   },
   "file_extension": ".py",
   "mimetype": "text/x-python",
   "name": "python",
   "nbconvert_exporter": "python",
   "pygments_lexer": "ipython3",
   "version": "3.11.9"
  }
 },
 "nbformat": 4,
 "nbformat_minor": 5
}
