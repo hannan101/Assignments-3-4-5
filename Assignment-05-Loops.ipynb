{
 "cells": [
  {
   "cell_type": "markdown",
   "id": "c49383cb-53e5-4849-a18d-fd1d57694993",
   "metadata": {},
   "source": [
    "## Looping Structures"
   ]
  },
  {
   "cell_type": "markdown",
   "id": "7bb8ab7d-475a-4df1-9b73-7497f790564d",
   "metadata": {},
   "source": [
    "### 1. Write a Python program to print the numbers from 1 to 10 using a for loop. "
   ]
  },
  {
   "cell_type": "code",
   "execution_count": 1,
   "id": "776a676a-b67b-4aad-8708-3b37f9250ceb",
   "metadata": {},
   "outputs": [
    {
     "name": "stdout",
     "output_type": "stream",
     "text": [
      "1\n",
      "2\n",
      "3\n",
      "4\n",
      "5\n",
      "6\n",
      "7\n",
      "8\n",
      "9\n",
      "10\n"
     ]
    }
   ],
   "source": [
    "for i in range(1, 11):\n",
    "    print(i)"
   ]
  },
  {
   "cell_type": "markdown",
   "id": "40e9f664-a6f1-4785-b248-e14aa5fb169e",
   "metadata": {},
   "source": [
    "### 2. Write a Python program to print the numbers from 20 to 1 using a while loop"
   ]
  },
  {
   "cell_type": "code",
   "execution_count": null,
   "id": "ea7b9a94-a8e9-42b6-a879-becfb0ce773c",
   "metadata": {},
   "outputs": [],
   "source": [
    "i = 20\n",
    "while i >= 1:\n",
    "    print(i)\n",
    "    i -= 1"
   ]
  },
  {
   "cell_type": "markdown",
   "id": "973fee06-e2f8-4693-ae00-b1a61a13911c",
   "metadata": {},
   "source": [
    "### 3. Write a program to print even numbers from 1 to 10."
   ]
  },
  {
   "cell_type": "code",
   "execution_count": null,
   "id": "231b7b0f-2427-4b94-841f-94da2e89165f",
   "metadata": {},
   "outputs": [],
   "source": [
    "for i in range(1, 11):\n",
    "    if i % 2 == 0:\n",
    "        print(i)"
   ]
  },
  {
   "cell_type": "markdown",
   "id": "93c27601-ef30-413e-b8e8-c6c10864749e",
   "metadata": {},
   "source": [
    "### 4. Write a program that prompts the user to enter a number n and prints all the numbers from 1 to n. "
   ]
  },
  {
   "cell_type": "code",
   "execution_count": null,
   "id": "05bcdc45-d3b9-483e-9a09-e9f75dd78975",
   "metadata": {},
   "outputs": [],
   "source": [
    "n = int(input(\"Enter any number: \"))\n",
    "for i in range(1, n+1):\n",
    "    print(i)"
   ]
  },
  {
   "cell_type": "markdown",
   "id": "c0f0f216-28d7-441b-b5db-b98585f9abdb",
   "metadata": {},
   "source": [
    "### 5. Write a program that prompts the user to enter a number n, and then prints all the odd numbers between 1 and n. "
   ]
  },
  {
   "cell_type": "code",
   "execution_count": null,
   "id": "f96ac216-17c2-4916-9245-720f2f9aee35",
   "metadata": {},
   "outputs": [],
   "source": [
    "n = int(input(\"Enter any number: \"))\n",
    "for i in range(1, n+1):\n",
    "    if i % 2 != 0:\n",
    "        print(i) "
   ]
  },
  {
   "cell_type": "markdown",
   "id": "f29784dc-f2ad-4c84-9368-6e5602d124e3",
   "metadata": {},
   "source": [
    "### 6. Write a program that prints 'Happy Birthday!' five times on screen. "
   ]
  },
  {
   "cell_type": "code",
   "execution_count": null,
   "id": "49bd9b38-b05a-45e1-b10f-e3a137b79ce1",
   "metadata": {},
   "outputs": [],
   "source": [
    "for i in range(6):\n",
    "    print(\"Happy Birthday\")"
   ]
  },
  {
   "cell_type": "markdown",
   "id": "a46420af-d622-421f-9cfe-ec1d56eece43",
   "metadata": {},
   "source": [
    "### 7. Write a program that takes a number n as input from the user and generates the first \n",
    "n terms of the series formed by squaring the natural numbers. \r"
   ]
  },
  {
   "cell_type": "code",
   "execution_count": null,
   "id": "a7182f32-f785-4bd2-9863-c2f2f3a5b4ea",
   "metadata": {},
   "outputs": [],
   "source": [
    "n = int(input(\"Enter any number: \"))\n",
    "\n",
    "for i in range(1, n + 1):\n",
    "    square = i**2\n",
    "    print(square)"
   ]
  },
  {
   "cell_type": "markdown",
   "id": "310d17c6-d9fa-4c9e-9216-44c94bc9d7b0",
   "metadata": {},
   "source": [
    "### 8. Write a program that prompts the user to input a number and prints its multiplication table. \n"
   ]
  },
  {
   "cell_type": "code",
   "execution_count": null,
   "id": "d92fd9f5-bb72-4cdd-adbc-4a7bd63f9ff0",
   "metadata": {},
   "outputs": [],
   "source": [
    "num = input(\"Enter Nmuber: \")\n",
    "\n",
    "for i in range(1, 11):\n",
    "    print(int(num) * i)"
   ]
  },
  {
   "cell_type": "markdown",
   "id": "7b5c438e-aa57-4e54-a167-b6962517eb5d",
   "metadata": {},
   "source": [
    "### 9. Write a Python program to print the first 8 terms of an arithmetic progression starting \n",
    "with 3 and having a common difference of 4. \r\n",
    "The program should output the following sequence :\r\n",
    "3 7 11 15 19 23 27 31 "
   ]
  },
  {
   "cell_type": "code",
   "execution_count": 6,
   "id": "7ed19119-91bc-4b09-ab8a-7bddbba6eb34",
   "metadata": {},
   "outputs": [
    {
     "name": "stdout",
     "output_type": "stream",
     "text": [
      "3 7 11 15 19 23 27 31 "
     ]
    }
   ],
   "source": [
    "# result : 3 7 11 15 19 23 27 31 \n",
    "init = 3\n",
    "limit = 8\n",
    "difference = 4\n",
    "num_list = []\n",
    "\n",
    "while len(num_list) <  limit:\n",
    "    num_list.append(init)\n",
    "    init += difference\n",
    "    \n",
    "for i in num_list:\n",
    "    print(i, end=\" \")"
   ]
  },
  {
   "cell_type": "markdown",
   "id": "72923d2f-c0e3-47da-8fb6-69a30a6c92ea",
   "metadata": {},
   "source": [
    "### 10. Write a Python program to print the first 6 terms of a geometric sequence startingwith 2 and having a common ratio of 3.\n",
    "The program should output the following sequence:\n",
    "2 6 18 54 162 486"
   ]
  },
  {
   "cell_type": "code",
   "execution_count": 7,
   "id": "7c17eadc-5ffa-4d41-9ef3-cbe979fffeb4",
   "metadata": {},
   "outputs": [
    {
     "name": "stdout",
     "output_type": "stream",
     "text": [
      "2 6 18 54 162 486 "
     ]
    }
   ],
   "source": [
    "start = 2\n",
    "ratio = 3\n",
    "terms = 6\n",
    "sequence = []\n",
    "\n",
    "while len(sequence) < terms:\n",
    "    sequence.append(start)\n",
    "    start *= ratio\n",
    "    \n",
    "for i in sequence:\n",
    "    print(i, end=\" \")\n",
    "    "
   ]
  },
  {
   "cell_type": "markdown",
   "id": "7c8dc29d-99f7-4b51-937a-4b0403e113ed",
   "metadata": {},
   "source": [
    "### 11. Write a program that asks the user for a positive integer value. The program should calculate the sum of all the integers from 1 up to the number entered. For example, if the user enters 20, the loop will find the sum of 1, 2, 3, 4, ... 20. "
   ]
  },
  {
   "cell_type": "code",
   "execution_count": 8,
   "id": "364b3d9d-bd30-4a31-8201-8a6a747acb9d",
   "metadata": {},
   "outputs": [
    {
     "name": "stdin",
     "output_type": "stream",
     "text": [
      "Enter Number:  7\n"
     ]
    },
    {
     "name": "stdout",
     "output_type": "stream",
     "text": [
      "28\n"
     ]
    },
    {
     "name": "stdin",
     "output_type": "stream",
     "text": [
      "Enter Number:  5\n"
     ]
    },
    {
     "name": "stdout",
     "output_type": "stream",
     "text": [
      "15\n"
     ]
    }
   ],
   "source": [
    "num = int(input(\"Enter Number: \"))\n",
    "num_list = []\n",
    "for i in range(1, num+1):\n",
    "    num_list.append(i)\n",
    "\n",
    "sum_list = sum(num_list)\n",
    "print(sum_list)\n",
    "\n",
    "# ----------------------------------OR-------------------------------------\n",
    "num = int(input(\"Enter Number: \"))\n",
    "total_sum = 0\n",
    "for i in range(1, num+1):\n",
    "    total_sum += i\n",
    "    \n",
    "print(total_sum)\n"
   ]
  },
  {
   "cell_type": "markdown",
   "id": "5e451e77-8c70-42b0-8c69-357e9b448323",
   "metadata": {},
   "source": [
    "### 12. write a program that takes a positive integer N as input and calculates the sum of the reciprocals of all numbers from 1 up to N. The program should display the final sum. \n",
    "Output of the program should be like:\r\n",
    "Enter a positive integer: 5\r\n",
    "The sum of reciprocals from 1 to 5 is: 2.28"
   ]
  },
  {
   "cell_type": "code",
   "execution_count": 9,
   "id": "12b8fc7a-a656-4859-afdb-00defea9e9fe",
   "metadata": {},
   "outputs": [
    {
     "name": "stdin",
     "output_type": "stream",
     "text": [
      "Enter Number:  5\n"
     ]
    },
    {
     "name": "stdout",
     "output_type": "stream",
     "text": [
      "2.283333333333333\n"
     ]
    }
   ],
   "source": [
    "num = int(input(\"Enter Number: \"))\n",
    "list_num = []\n",
    "for i in range(1, num+1):\n",
    "    reciprocal = 1/i \n",
    "    list_num.append(reciprocal)\n",
    "    sum_reciprocal = sum(list_num)\n",
    "\n",
    "print(sum_reciprocal)"
   ]
  },
  {
   "cell_type": "markdown",
   "id": "87063ebf-3c7d-420c-bf1b-17947bb4b3a5",
   "metadata": {},
   "source": [
    "### 13. Write a program that prompts the user to enter a number and repeats this process 5 times. The program should accumulate the numbers entered and then display the final running total.\n",
    "Sample Output:\n",
    "Enter a number: 10\n",
    "Enter a number: 15\n",
    "Enter a number: 35\n",
    "Enter a number: 40\n",
    "Enter a number: 50\n",
    "The final running total is: 150 \n"
   ]
  },
  {
   "cell_type": "code",
   "execution_count": 11,
   "id": "6029ff27-64af-4e47-b69b-315494c47bbc",
   "metadata": {},
   "outputs": [
    {
     "name": "stdin",
     "output_type": "stream",
     "text": [
      "Enter number:  2\n",
      "Enter number:  2\n",
      "Enter number:  2\n",
      "Enter number:  2\n",
      "Enter number:  2\n"
     ]
    },
    {
     "name": "stdout",
     "output_type": "stream",
     "text": [
      "10\n"
     ]
    },
    {
     "name": "stdin",
     "output_type": "stream",
     "text": [
      "Enter a Number:  2\n",
      "Enter a Number:  2\n",
      "Enter a Number:  2\n",
      "Enter a Number:  2\n",
      "Enter a Number:  2\n"
     ]
    },
    {
     "name": "stdout",
     "output_type": "stream",
     "text": [
      "10\n"
     ]
    }
   ],
   "source": [
    "list_num = []\n",
    "for num in range(5):\n",
    "    num = int(input(\"Enter number: \"))\n",
    "    list_num.append(num)\n",
    "    \n",
    "print(sum(list_num))\n",
    "\n",
    "   # --------------------- OR -------------------\n",
    "count = 0\n",
    "total = 0\n",
    "\n",
    "while count < 5:\n",
    "    num = int(input(\"Enter a Number: \"))\n",
    "    total += num\n",
    "    count += 1\n",
    "\n",
    "print(total)"
   ]
  },
  {
   "cell_type": "markdown",
   "id": "9da164bf-997d-462b-84fe-bf99ad222426",
   "metadata": {},
   "source": [
    "### 14. Write a program that prompts the user to enter a positive integer and calculates its factorial. The factorial of a positive integer 'n' is denoted as 'n!' and is calculated by multiplying all the integers from 1 to 'n' together. For example, the factorial of 5 (denoted as 5!) is calculated as 1 x 2 x 3 x 4 x 5. The program should display the factorial value if the input is a positive number, or display a message stating that the factorial does not exist for negative numbers. Additionally, for an input of zero, the program should output that the factorial of 0 is 1. \n"
   ]
  },
  {
   "cell_type": "code",
   "execution_count": 12,
   "id": "98d5e912-2ad3-4cbb-9a5e-df9dd48915ec",
   "metadata": {},
   "outputs": [
    {
     "name": "stdin",
     "output_type": "stream",
     "text": [
      "Enter a Number:  5\n"
     ]
    },
    {
     "name": "stdout",
     "output_type": "stream",
     "text": [
      "Factorial of 5 is 120\n"
     ]
    }
   ],
   "source": [
    "num = int(input(\"Enter a Number: \"))\n",
    "if num == 0:\n",
    "    print(f\"Factorial of {num} is 1\")\n",
    "    \n",
    "elif num < 0:\n",
    "    print(f\"factorial does not exist for negative numbers\")\n",
    "    \n",
    "else:\n",
    "    factorial =  1\n",
    "    for i in range(1, num + 1):\n",
    "        factorial *= i\n",
    "    print(f\"Factorial of {num} is {factorial}\")\n"
   ]
  },
  {
   "cell_type": "markdown",
   "id": "4f184466-98e7-49e8-bef0-b9261ef99c4b",
   "metadata": {},
   "source": [
    "### 15. Write a Python program that prompts the user to enter a base number and an exponent, and then calculates the power of the base to the exponent. The program should not use the exponentiation operator (**) or the math.pow() function. The program should handle both positive and negative exponents. "
   ]
  },
  {
   "cell_type": "code",
   "execution_count": 14,
   "id": "6d63c92f-57ce-40d9-803d-47bb3a1409e6",
   "metadata": {},
   "outputs": [
    {
     "name": "stdin",
     "output_type": "stream",
     "text": [
      "Enter number for base:  4\n",
      "Enter number for exponent:  -5\n"
     ]
    },
    {
     "name": "stdout",
     "output_type": "stream",
     "text": [
      "0.0009765625\n"
     ]
    }
   ],
   "source": [
    "base = float(input(\"Enter number for base: \"))\n",
    "exponent = int(input(\"Enter number for exponent: \"))\n",
    "result = 1\n",
    "if exponent < 0:\n",
    "    pos_exponent = abs(exponent)\n",
    "    for _ in range(pos_exponent):\n",
    "        result *= base\n",
    "    result = 1/result\n",
    "    print(result) \n",
    "else:\n",
    "    for _ in range(exponent):\n",
    "        result*= base\n",
    "\n",
    "    print(result)\n"
   ]
  },
  {
   "cell_type": "code",
   "execution_count": 18,
   "id": "149ff96f-e29e-4475-9619-69175ea54b27",
   "metadata": {},
   "outputs": [
    {
     "name": "stdin",
     "output_type": "stream",
     "text": [
      "Enter number for base:  5\n",
      "Enter number for exponent:  5\n"
     ]
    },
    {
     "name": "stdout",
     "output_type": "stream",
     "text": [
      "Base : 5.0 Exponent : 5 and Result is 3125.0\n"
     ]
    }
   ],
   "source": [
    "base = float(input(\"Enter number for base: \"))\n",
    "exponent = int(input(\"Enter number for exponent: \"))\n",
    "result = 1\n",
    "if exponent < 0:\n",
    "    for _ in range(-exponent):\n",
    "        result *= base\n",
    "    result = 1/result\n",
    "elif exponent > 0:\n",
    "    for _ in range(exponent):\n",
    "        result *= base\n",
    "else:\n",
    "    result = 1\n",
    "print(f\"Base : {base} Exponent : {exponent} and Result is {result}\")\n"
   ]
  },
  {
   "cell_type": "code",
   "execution_count": null,
   "id": "d0501a14-946b-4b73-b309-4a69601c4593",
   "metadata": {},
   "outputs": [],
   "source": []
  },
  {
   "cell_type": "code",
   "execution_count": null,
   "id": "810ad7d1-26d7-4fa9-8076-2146feee86aa",
   "metadata": {},
   "outputs": [],
   "source": []
  }
 ],
 "metadata": {
  "kernelspec": {
   "display_name": "Python 3 (ipykernel)",
   "language": "python",
   "name": "python3"
  },
  "language_info": {
   "codemirror_mode": {
    "name": "ipython",
    "version": 3
   },
   "file_extension": ".py",
   "mimetype": "text/x-python",
   "name": "python",
   "nbconvert_exporter": "python",
   "pygments_lexer": "ipython3",
   "version": "3.11.9"
  }
 },
 "nbformat": 4,
 "nbformat_minor": 5
}
